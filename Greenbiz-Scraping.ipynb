{
 "cells": [
  {
   "cell_type": "code",
   "execution_count": null,
   "id": "44958911",
   "metadata": {},
   "outputs": [],
   "source": [
    "import requests\n",
    "from bs4 import BeautifulSoup\n",
    "\n",
    "url = 'https://jobs.greenbiz.com/management-analyst-7a7857f6ed85'\n",
    "response = requests.get(url)\n",
    "\n",
    "# Check if the request was successful\n",
    "if response.status_code == 200:\n",
    "    html_content = response.content\n",
    "else:\n",
    "    print(f\"Failed to fetch the page. Status code: {response.status_code}\")\n",
    "    exit()\n",
    "\n",
    "soup = BeautifulSoup(html_content, 'lxml')\n"
   ]
  },
  {
   "cell_type": "code",
   "execution_count": null,
   "id": "56a83b0d",
   "metadata": {},
   "outputs": [],
   "source": [
    "#when you reboot the computer, first enable safari driver on terminal before running code"
   ]
  },
  {
   "cell_type": "code",
   "execution_count": null,
   "id": "d64a0c92",
   "metadata": {},
   "outputs": [],
   "source": [
    "#Import necessary packages\n",
    "from selenium import webdriver\n",
    "from selenium.webdriver.common.by import By\n",
    "from selenium.webdriver.support.ui import WebDriverWait\n",
    "from selenium.webdriver.support import expected_conditions as EC\n",
    "\n",
    "# Create a new instance of the Safari driver\n",
    "driver = webdriver.Safari()\n",
    "\n",
    "# Use driver to visit the website\n",
    "driver.get(\"https://jobs.greenbiz.com/\")\n",
    "\n",
    "# Let's assume the jobs are listed in a table element with an id 'jobs'\n",
    "jobs = WebDriverWait(driver, 10).until(EC.presence_of_element_located((By.ID, \"jobs\")))\n",
    "\n",
    "# Assume every job is in a row <tr> and data in <td> tags.\n",
    "# Alternatively, adjust this depending on the website's structure\n",
    "for job in jobs.find_elements(By.TAG_NAME, \"tr\"):\n",
    "    data = job.find_elements(By.TAG_NAME, \"td\")\n",
    "    job_title = data[0].text\n",
    "    company = data[1].text\n",
    "    location = data[2].text\n",
    "    posting_date = data[3].text\n",
    "\n",
    "    print(f\"Job title: {job_title}\")\n",
    "    print(f\"Company: {company}\")\n",
    "    print(f\"Location: {location}\")\n",
    "    print(f\"Date posted: {posting_date}\")\n",
    "    print(\"---\")\n",
    "\n",
    "# Close the driver\n",
    "driver.quit()"
   ]
  }
 ],
 "metadata": {
  "kernelspec": {
   "display_name": "Python 3 (ipykernel)",
   "language": "python",
   "name": "python3"
  },
  "language_info": {
   "codemirror_mode": {
    "name": "ipython",
    "version": 3
   },
   "file_extension": ".py",
   "mimetype": "text/x-python",
   "name": "python",
   "nbconvert_exporter": "python",
   "pygments_lexer": "ipython3",
   "version": "3.10.9"
  }
 },
 "nbformat": 4,
 "nbformat_minor": 5
}
